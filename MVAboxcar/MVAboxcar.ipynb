{
 "cells": [
  {
   "cell_type": "code",
   "execution_count": 1,
   "id": "75406d28",
   "metadata": {},
   "outputs": [],
   "source": [
    "import pandas as pd\n",
    "import numpy as np\n",
    "import matplotlib.pyplot as plt"
   ]
  },
  {
   "cell_type": "code",
   "execution_count": 3,
   "id": "03147c11",
   "metadata": {},
   "outputs": [
    {
     "data": {
      "image/png": "[encoded data removed]",
      "text/plain": [
       "<Figure size 720x720 with 1 Axes>"
      ]
     },
     "metadata": {
      "needs_background": "light"
     },
     "output_type": "display_data"
    },
    {
     "data": {
      "text/html": [
       "<div>\n",
       "<style scoped>\n",
       "    .dataframe tbody tr th:only-of-type {\n",
       "        vertical-align: middle;\n",
       "    }\n",
       "\n",
       "    .dataframe tbody tr th {\n",
       "        vertical-align: top;\n",
       "    }\n",
       "\n",
       "    .dataframe thead th {\n",
       "        text-align: right;\n",
       "    }\n",
       "</style>\n",
       "<table border=\"1\" class=\"dataframe\">\n",
       "  <thead>\n",
       "    <tr style=\"text-align: right;\">\n",
       "      <th></th>\n",
       "      <th>2.5%</th>\n",
       "      <th>25%</th>\n",
       "      <th>50%</th>\n",
       "      <th>75%</th>\n",
       "      <th>97.5%</th>\n",
       "    </tr>\n",
       "  </thead>\n",
       "  <tbody>\n",
       "    <tr>\n",
       "      <th>value</th>\n",
       "      <td>13.65</td>\n",
       "      <td>18.0</td>\n",
       "      <td>20.0</td>\n",
       "      <td>24.75</td>\n",
       "      <td>35.0</td>\n",
       "    </tr>\n",
       "  </tbody>\n",
       "</table>\n",
       "</div>"
      ],
      "text/plain": [
       "        2.5%   25%   50%    75%  97.5%\n",
       "value  13.65  18.0  20.0  24.75   35.0"
      ]
     },
     "metadata": {},
     "output_type": "display_data"
    }
   ],
   "source": [
    "x = pd.read_csv('carc.txt', sep=\"\\t\", header=None)\n",
    "\n",
    "# parameter settings\n",
    "k = 0\n",
    "l = 0\n",
    "m = 0\n",
    "M = x[1]\n",
    "C = x[12]\n",
    "\n",
    "us = x[x[12] == 1][1]\n",
    "japan = x[x[12] == 2][1]\n",
    "europe = x[x[12] == 3][1]\n",
    "\n",
    "m1 = us.mean()\n",
    "m2 = japan.mean()\n",
    "m3 = europe.mean()\n",
    "\n",
    "fig, ax = plt.subplots(figsize = (10, 10))\n",
    "ax.boxplot([us, japan, europe], labels = [\"US\", \"JAPAN\", \"EU\"], \n",
    "           meanline = True, showmeans = True, patch_artist=True, \n",
    "           boxprops=dict(facecolor = \"lightgrey\"), widths = 0.65, \n",
    "           medianprops=dict(color=\"black\", linewidth = 2.5), \n",
    "           meanprops=dict(color=\"black\"))\n",
    "plt.title(\"Car Data\", fontsize = 20)\n",
    "plt.show()\n",
    "\n",
    "display(pd.DataFrame(data = {\"value\": np.quantile(x[1], [0.025, 0.25, 0.5, 0.75, 0.975])}, \n",
    "                     index = [\"2.5%\", \"25%\", \"50%\", \"75%\", \"97.5%\"]).T)"
   ]
  }
 ],
 "metadata": {
  "hide_input": false,
  "kernelspec": {
   "display_name": "Python 3",
   "language": "python",
   "name": "python3"
  },
  "language_info": {
   "codemirror_mode": {
    "name": "ipython",
    "version": 3
   },
   "file_extension": ".py",
   "mimetype": "text/x-python",
   "name": "python",
   "nbconvert_exporter": "python",
   "pygments_lexer": "ipython3",
   "version": "3.7.6"
  }
 },
 "nbformat": 4,
 "nbformat_minor": 5
}
