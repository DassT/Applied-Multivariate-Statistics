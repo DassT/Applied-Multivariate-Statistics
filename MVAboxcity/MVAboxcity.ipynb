{
 "cells": [
  {
   "cell_type": "code",
   "execution_count": 1,
   "id": "4a4c4932",
   "metadata": {},
   "outputs": [],
   "source": [
    "import pandas as pd\n",
    "import matplotlib.pyplot as plt\n",
    "import numpy as np"
   ]
  },
  {
   "cell_type": "code",
   "execution_count": 2,
   "id": "be3953b7",
   "metadata": {},
   "outputs": [
    {
     "name": "stdout",
     "output_type": "stream",
     "text": [
      "Five number summary, in millions\n"
     ]
    },
    {
     "data": {
      "text/html": [
       "<div>\n",
       "<style scoped>\n",
       "    .dataframe tbody tr th:only-of-type {\n",
       "        vertical-align: middle;\n",
       "    }\n",
       "\n",
       "    .dataframe tbody tr th {\n",
       "        vertical-align: top;\n",
       "    }\n",
       "\n",
       "    .dataframe thead th {\n",
       "        text-align: right;\n",
       "    }\n",
       "</style>\n",
       "<table border=\"1\" class=\"dataframe\">\n",
       "  <thead>\n",
       "    <tr style=\"text-align: right;\">\n",
       "      <th></th>\n",
       "      <th>2.5%</th>\n",
       "      <th>25%</th>\n",
       "      <th>50%</th>\n",
       "      <th>75%</th>\n",
       "      <th>97.5%</th>\n",
       "    </tr>\n",
       "  </thead>\n",
       "  <tbody>\n",
       "    <tr>\n",
       "      <th>value</th>\n",
       "      <td>1452.75</td>\n",
       "      <td>1610.0</td>\n",
       "      <td>1815.0</td>\n",
       "      <td>2105.0</td>\n",
       "      <td>3021.0</td>\n",
       "    </tr>\n",
       "  </tbody>\n",
       "</table>\n",
       "</div>"
      ],
      "text/plain": [
       "          2.5%     25%     50%     75%   97.5%\n",
       "value  1452.75  1610.0  1815.0  2105.0  3021.0"
      ]
     },
     "execution_count": 2,
     "metadata": {},
     "output_type": "execute_result"
    },
    {
     "data": {
      "image/png": "[encoded data removed]",
      "text/plain": [
       "<Figure size 720x720 with 1 Axes>"
      ]
     },
     "metadata": {
      "needs_background": "light"
     },
     "output_type": "display_data"
    }
   ],
   "source": [
    "x = pd.read_csv('cities.txt', sep=\" \", header=None)\n",
    "m1 = x.mean()\n",
    "\n",
    "fig, ax = plt.subplots(figsize = (10, 10))\n",
    "ax.boxplot(x[0], patch_artist=True, boxprops=dict(facecolor = \"lightgrey\"), \n",
    "           medianprops=dict(color=\"black\", linewidth = 2.5), meanline = True, \n",
    "           showmeans = True, meanprops=dict(color=\"black\"), widths = 0.3)\n",
    "ax.set_xlabel(\"World Cities\", fontsize = 15)\n",
    "ax.set_ylabel(\"Values\", fontsize = 15)\n",
    "plt.title(\"Boxplot\", fontsize = 20)\n",
    "\n",
    "five = np.quantile(x, [0.025, 0.25, 0.5, 0.75, 0.975])\n",
    "print(\"Five number summary, in millions\")\n",
    "pd.DataFrame(data = {\"value\": five}, index = [\"2.5%\", \"25%\", \"50%\", \"75%\", \"97.5%\"]).T"
   ]
  }
 ],
 "metadata": {
  "hide_input": false,
  "kernelspec": {
   "display_name": "Python 3",
   "language": "python",
   "name": "python3"
  },
  "language_info": {
   "codemirror_mode": {
    "name": "ipython",
    "version": 3
   },
   "file_extension": ".py",
   "mimetype": "text/x-python",
   "name": "python",
   "nbconvert_exporter": "python",
   "pygments_lexer": "ipython3",
   "version": "3.7.6"
  }
 },
 "nbformat": 4,
 "nbformat_minor": 5
}
