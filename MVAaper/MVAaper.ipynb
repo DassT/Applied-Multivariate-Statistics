{
 "cells": [
  {
   "cell_type": "code",
   "execution_count": 1,
   "id": "807cac73",
   "metadata": {},
   "outputs": [],
   "source": [
    "import pandas as pd\n",
    "import numpy as np"
   ]
  },
  {
   "cell_type": "code",
   "execution_count": 2,
   "id": "9dab5cf8",
   "metadata": {},
   "outputs": [
    {
     "name": "stdout",
     "output_type": "stream",
     "text": [
      "Genuine banknotes classified as forged: 1\n",
      "Forged banknotes classified as genuine: 0\n",
      "APER (apparent error rate): 0.005\n"
     ]
    }
   ],
   "source": [
    "x = pd.read_csv(\"bank2.dat\", sep = \"\\s+\", header=None)\n",
    "xg = x[:100]\n",
    "xf = x[100:200]\n",
    "\n",
    "mg = xg.mean(axis = 0)\n",
    "mf = xf.mean(axis = 0)\n",
    "m = (mf + mg)/2\n",
    "s = (99 * xg.cov() + 99 * xf.cov())/198\n",
    "alpha = np.linalg.inv(s) @ (mg - mf)\n",
    "\n",
    "miss1 = 0\n",
    "for i in range(0, len(xg.iloc[:, 0])):\n",
    "    if ((xg.iloc[i,:] - m) @ alpha) < 0:\n",
    "        miss1 += 1\n",
    "\n",
    "miss2 = 0\n",
    "for i in range(0, len(xf.iloc[:, 0])):\n",
    "    if ((xf.iloc[i,:] - m) @ alpha) > 0:\n",
    "        miss2 += 1\n",
    "\n",
    "aper = (miss1 + miss2)/len(x.iloc[:, 0])\n",
    "\n",
    "print(\"Genuine banknotes classified as forged: {}\".format(miss1))\n",
    "print(\"Forged banknotes classified as genuine: {}\".format(miss2))\n",
    "print(\"APER (apparent error rate): {}\".format(aper))"
   ]
  }
 ],
 "metadata": {
  "hide_input": false,
  "kernelspec": {
   "display_name": "Python 3",
   "language": "python",
   "name": "python3"
  },
  "language_info": {
   "codemirror_mode": {
    "name": "ipython",
    "version": 3
   },
   "file_extension": ".py",
   "mimetype": "text/x-python",
   "name": "python",
   "nbconvert_exporter": "python",
   "pygments_lexer": "ipython3",
   "version": "3.7.6"
  }
 },
 "nbformat": 4,
 "nbformat_minor": 5
}
