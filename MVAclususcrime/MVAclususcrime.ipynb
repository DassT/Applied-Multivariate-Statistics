{
 "cells": [
  {
   "cell_type": "code",
   "execution_count": 1,
   "metadata": {},
   "outputs": [],
   "source": [
    "import pandas as pd\n",
    "import numpy as np\n",
    "import matplotlib.pyplot as plt"
   ]
  },
  {
   "cell_type": "code",
   "execution_count": 74,
   "metadata": {},
   "outputs": [],
   "source": [
    "data = pd.read_csv(\"uscrime_python.csv\", index_col = 0)\n",
    "\n",
    "X = data.iloc[:, 2:9]\n",
    "\n",
    "row_s = X.sum(axis = 1)\n",
    "column_s = X.sum(axis = 0)\n",
    "mat_s = X.values.sum()\n",
    "D = np.array([[0]*50]*50)\n",
    "\n",
    "D = pd.DataFrame(np.array([[0]*50]*50))\n",
    "\n",
    "for i in range(0, len(X)):\n",
    "    for j in range(i+1, len(X)-1):\n",
    "            D.iloc[i, j] = 1/(column_s[6]/mat_s) * ((X.iloc[i, 6]/row_s[i]) - (X.iloc[j, 6]/row_s[j]))**2"
   ]
  }
 ],
 "metadata": {
  "anaconda-cloud": {},
  "kernelspec": {
   "display_name": "Python [conda root]",
   "language": "python",
   "name": "conda-root-py"
  },
  "language_info": {
   "codemirror_mode": {
    "name": "ipython",
    "version": 3
   },
   "file_extension": ".py",
   "mimetype": "text/x-python",
   "name": "python",
   "nbconvert_exporter": "python",
   "pygments_lexer": "ipython3",
   "version": "3.5.5"
  }
 },
 "nbformat": 4,
 "nbformat_minor": 2
}
