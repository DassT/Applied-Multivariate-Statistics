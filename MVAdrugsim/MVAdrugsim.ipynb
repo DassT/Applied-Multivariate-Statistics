{
 "cells": [
  {
   "cell_type": "code",
   "execution_count": 1,
   "id": "cb064c38",
   "metadata": {},
   "outputs": [],
   "source": [
    "import pandas as pd\n",
    "import numpy as np"
   ]
  },
  {
   "cell_type": "code",
   "execution_count": 2,
   "id": "644c248f",
   "metadata": {},
   "outputs": [
    {
     "name": "stdout",
     "output_type": "stream",
     "text": [
      "age    A1   A2   A3   A4  A5\n",
      "drug                        \n",
      "DN    683  596  705  295  99\n",
      "DY     21   32   70   43  19\n",
      "age    A1   A2   A3   A4   A5\n",
      "drug                         \n",
      "DN    738  700  847  336  196\n",
      "DY     46   89  169   98   51\n"
     ]
    }
   ],
   "source": [
    "Q = 3  # number of variables\n",
    "I = 2  # sex: M - F\n",
    "J = 2  # drug: Yes - No\n",
    "K = 5  # age category: 16-29, 30-44, 45-64, 65-74, 75++\n",
    "\n",
    "\n",
    "zi = pd.DataFrame(data = {\"0\": [1, 0, 1, 0, 1, 0, 0, 0, 0, 21], \n",
    "                          \"1\": [1, 0, 1, 0, 0, 1, 0, 0, 0, 32],\n",
    "                          \"2\": [1, 0, 1, 0, 0, 0, 1, 0, 0, 70],\n",
    "                          \"3\": [1, 0, 1, 0, 0, 0, 0, 1, 0, 43],\n",
    "                          \"4\": [1, 0, 1, 0, 0, 0, 0, 0, 1, 19],\n",
    "                          \"5\": [1, 0, 0, 1, 1, 0, 0, 0, 0, 683],\n",
    "                          \"6\": [1, 0, 0, 1, 0, 1, 0, 0, 0, 596],\n",
    "                          \"7\": [1, 0, 0, 1, 0, 0, 1, 0, 0, 705],\n",
    "                          \"8\": [1, 0, 0, 1, 0, 0, 0, 1, 0, 295],\n",
    "                          \"9\": [1, 0, 0, 1, 0, 0, 0, 0, 1, 99],\n",
    "                          \"10\": [0, 1, 1, 0, 1, 0, 0, 0, 0, 46],\n",
    "                          \"11\": [0, 1, 1, 0, 0, 1, 0, 0, 0, 89],\n",
    "                          \"12\": [0, 1, 1, 0, 0, 0, 1, 0, 0, 169],\n",
    "                          \"13\": [0, 1, 1, 0, 0, 0, 0, 1, 0, 98],\n",
    "                          \"14\": [0, 1, 1, 0, 0, 0, 0, 0, 1, 51],\n",
    "                          \"15\": [0, 1, 0, 1, 1, 0, 0, 0, 0, 738],\n",
    "                          \"16\": [0, 1, 0, 1, 0, 1, 0, 0, 0, 700],\n",
    "                          \"17\": [0, 1, 0, 1, 0, 0, 1, 0, 0, 847],\n",
    "                          \"18\": [0, 1, 0, 1, 0, 0, 0, 1, 0, 336],\n",
    "                          \"19\": [0, 1, 0, 1, 0, 0, 0, 0, 1, 196],}).T\n",
    "\n",
    "\n",
    "\n",
    "men = np.column_stack((zi.iloc[:5, 9], zi.iloc[5:10, 9]))\n",
    "women = np.column_stack((zi.iloc[10:15, 9], zi.iloc[15:20, 9]))\n",
    "\n",
    "a = np.array([men.flatten(order = \"F\"), women.flatten(order = \"F\")]).flatten()\n",
    "age = [\"A1\", \"A2\", \"A3\", \"A4\", \"A5\"] * 4\n",
    "drug = ([\"DY\"] * 5 + [\"DN\"] * 5) * 2\n",
    "gender = [\"men\"] * 10 + [\"women\"] * 10\n",
    "\n",
    "data = pd.DataFrame(data = {\"a\": a, \"age\": age, \"drug\": drug, \"gender\": gender})\n",
    "\n",
    "print(data[data.gender==\"men\"].pivot(index='drug', columns='age', values='a'))\n",
    "print(data[data.gender==\"women\"].pivot(index='drug', columns='age', values='a'))\n",
    "\n",
    "xi = zi.iloc[:, :-1]\n",
    "xy = zi.iloc[:, -1]\n",
    "    \n",
    "yy = np.tile(xi.iloc[0,:], (xy[0], 1))\n",
    "for i in range(0, 20):\n",
    "    yy = np.append(yy, np.tile(xi.iloc[i,:], (xy[i], 1)), axis = 0)\n",
    "    \n",
    "\n",
    "#true positives + true negatives\n",
    "tptn = (yy[:, None, :] == yy).sum(2)\n",
    "#true positives\n",
    "tp = np.logical_and((np.tile((yy[:, None, :] == 1), (1,len(yy),1))), \n",
    "                    (yy[:, None, :] == yy)).sum(2)\n",
    "#true negatives\n",
    "tn = np.logical_and((np.tile((yy[:, None, :] == 0), (1,len(yy),1))), \n",
    "                    (yy[:, None, :] == yy)).sum(2)\n",
    "#false positives + false negatives\n",
    "fpfn = (yy[:, None, :] != yy).sum(2)\n",
    "\n",
    "jaccard = tp/(tp+fpfn)\n",
    "simplem = (tp+tn)/(tptn+fpfn)\n",
    "tanimot = (tp+tn)/(tptn+2*(fpfn))"
   ]
  }
 ],
 "metadata": {
  "hide_input": false,
  "kernelspec": {
   "display_name": "Python 3",
   "language": "python",
   "name": "python3"
  },
  "language_info": {
   "codemirror_mode": {
    "name": "ipython",
    "version": 3
   },
   "file_extension": ".py",
   "mimetype": "text/x-python",
   "name": "python",
   "nbconvert_exporter": "python",
   "pygments_lexer": "ipython3",
   "version": "3.7.6"
  }
 },
 "nbformat": 4,
 "nbformat_minor": 5
}
