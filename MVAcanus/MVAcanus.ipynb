{
 "cells": [
  {
   "cell_type": "code",
   "execution_count": 1,
   "id": "eb592bff",
   "metadata": {},
   "outputs": [],
   "source": [
    "import pandas as pd\n",
    "import numpy as np"
   ]
  },
  {
   "cell_type": "code",
   "execution_count": 4,
   "id": "b2cd98fa",
   "metadata": {},
   "outputs": [],
   "source": [
    "X = pd.read_csv(\"uscrime.dat\", sep = \"\\s+\", header=None)\n",
    "X = X.iloc[:, [2, 3, 4, 5, 6, 7, 8]]\n",
    "\n",
    "Y1 = pd.read_csv(\"ushealth.dat\", sep = \"\\s+\", header=None)\n",
    "Y2 = Y1.iloc[:, [3, 4, 5, 6, 7, 8, 9]]\n",
    "\n",
    "# Estimation of covariance matrices\n",
    "S = np.cov(np.hstack((np.array(X), np.array(Y2))).T)\n",
    "Sxx = S[:len(X.columns), :len(X.columns)]\n",
    "Sxy = S[:len(X.columns), len(Y2.columns):(len(X.columns) + len(Y2.columns))]\n",
    "Syx = Sxy\n",
    "Syy = S[len(Y2.columns):(len(X.columns) + len(Y2.columns)), len(Y2.columns):(len(X.columns) + len(Y2.columns))]\n",
    "\n",
    "# Estimation of the matrix K and its singular value decomposition\n",
    "eigenX = np.linalg.eig(Sxx)\n",
    "eX = eigenX[0]\n",
    "vX = eigenX[1]\n",
    "\n",
    "eigenY = np.linalg.eig(Syy)\n",
    "eY = eigenY[0]\n",
    "vY = eigenY[1]\n",
    "\n",
    "K = vX @ np.diag(1/np.sqrt(eX)) @ vX.T @ Sxy @ vY @ np.diag(1/np.sqrt(eY)) @ vY.T\n",
    "\n",
    "G, L, D = np.linalg.svd(K, full_matrices = False)\n",
    "L = np.diag(L)\n",
    "\n",
    "# Estimated canonical correlation vectors (a and b) and canonical variables (eta and phi)\n",
    "a = vX @ np.diag(1/np.sqrt(eX)) @ vX.T @ G\n",
    "b = vY @ np.diag(1/np.sqrt(eY)) @ vY.T @ D.T\n",
    "\n",
    "eta = X @ a\n",
    "phi = Y2 @ b"
   ]
  }
 ],
 "metadata": {
  "hide_input": false,
  "kernelspec": {
   "display_name": "Python 3",
   "language": "python",
   "name": "python3"
  },
  "language_info": {
   "codemirror_mode": {
    "name": "ipython",
    "version": 3
   },
   "file_extension": ".py",
   "mimetype": "text/x-python",
   "name": "python",
   "nbconvert_exporter": "python",
   "pygments_lexer": "ipython3",
   "version": "3.7.6"
  }
 },
 "nbformat": 4,
 "nbformat_minor": 5
}
