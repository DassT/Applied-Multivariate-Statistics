{
 "cells": [
  {
   "cell_type": "code",
   "execution_count": 1,
   "id": "95480aa4",
   "metadata": {},
   "outputs": [],
   "source": [
    "import pandas as pd\n",
    "import numpy as np\n",
    "from scipy.cluster import hierarchy"
   ]
  },
  {
   "cell_type": "code",
   "execution_count": 2,
   "id": "fa9e3820",
   "metadata": {},
   "outputs": [],
   "source": [
    "data = pd.read_csv(\"bostonh.dat\", sep = \"\\s+\", header=None)\n",
    "\n",
    "# transform data\n",
    "\n",
    "xt = data\n",
    "for i in [0, 2, 4, 5, 7, 8, 9, 13]:\n",
    "    xt.iloc[:, i] = np.log(data.iloc[:, i])\n",
    "    \n",
    "xt.iloc[:, 1] = data.iloc[:, 1]/10\n",
    "xt.iloc[:, 6] = (data.iloc[:, 6]**(2.5))/10000\n",
    "xt.iloc[:, 10] = np.exp(0.4 * data.iloc[:, 10])/1000\n",
    "xt.iloc[:, 11] = data.iloc[:, 11]/100\n",
    "xt.iloc[:, 12] = np.sqrt(data.iloc[:, 12])\n",
    "data = xt.drop(3, axis = 1)\n",
    "\n",
    "da = (data - np.mean(data))/np.std(data, ddof = 1)\n",
    "d = np.zeros([len(da),len(da)])\n",
    "\n",
    "for i in range(0, len(da)):\n",
    "    for j in range(0, len(da)):\n",
    "        d[i, j] = np.linalg.norm(da.iloc[i, :] - da.iloc[j, :])       \n",
    "        \n",
    "ddd  = d[1:, :-1][:, 0]\n",
    "for i in range(1, len(da)-1):\n",
    "    ddd = np.concatenate((ddd, d[1:, :-1][i:, i]))\n",
    "\n",
    "w = hierarchy.linkage(ddd, 'ward')\n",
    "tree = hierarchy.cut_tree(w, n_clusters = 2)\n",
    "\n",
    "n = len(data)"
   ]
  },
  {
   "cell_type": "code",
   "execution_count": 3,
   "id": "9bf9e5be",
   "metadata": {},
   "outputs": [
    {
     "name": "stdout",
     "output_type": "stream",
     "text": [
      "0.05138339920948617\n"
     ]
    }
   ],
   "source": [
    "# AER for clusters of Boston houses\n",
    "\n",
    "da[\"tree\"] = tree\n",
    "\n",
    "mis1  = 0\n",
    "mis2  = 0\n",
    "corr1 = 0\n",
    "corr2 = 0\n",
    "\n",
    "for i in range(n):\n",
    "    dai = da.drop(i)\n",
    "    t1 = dai[dai[\"tree\"] == 0].iloc[:, :-1]\n",
    "    t2 = dai[dai[\"tree\"] == 1].iloc[:, :-1]\n",
    "    m1 = t1.mean()\n",
    "    m2 = t2.mean()\n",
    "    m = (m1 + m2)/2\n",
    "    s = ((len(t1) - 1) * np.cov(t1.T) + (len(t2) - 1) * np.cov(t2.T))/(len(da) - 2)\n",
    "    alpha = np.linalg.inv(s) @ (m1 - m2)\n",
    "    mis1 = mis1 + int(tree[i] == 0) * int((da.iloc[i, :-1] - m) @ alpha < 0)\n",
    "    mis2 = mis2 + int(tree[i] == 1) * int((da.iloc[i, :-1] - m) @ alpha > 0)\n",
    "    corr1 = corr1 + int(tree[i] == 0) * int((da.iloc[i, :-1] - m) @ alpha > 0)\n",
    "    corr2 = corr2 + int(tree[i] == 1) * int((da.iloc[i, :-1] - m) @ alpha < 0)\n",
    "    \n",
    "aer = (mis1 + mis2)/len(da)            # AER (actual error rate)\n",
    "print(aer) "
   ]
  }
 ],
 "metadata": {
  "hide_input": false,
  "kernelspec": {
   "display_name": "Python 3",
   "language": "python",
   "name": "python3"
  },
  "language_info": {
   "codemirror_mode": {
    "name": "ipython",
    "version": 3
   },
   "file_extension": ".py",
   "mimetype": "text/x-python",
   "name": "python",
   "nbconvert_exporter": "python",
   "pygments_lexer": "ipython3",
   "version": "3.7.6"
  }
 },
 "nbformat": 4,
 "nbformat_minor": 5
}
