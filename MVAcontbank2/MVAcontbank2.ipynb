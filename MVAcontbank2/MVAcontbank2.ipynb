{
 "cells": [
  {
   "cell_type": "code",
   "execution_count": 1,
   "metadata": {},
   "outputs": [
    {
     "data": {
      "text/plain": [
       "<Figure size 1000x1000 with 1 Axes>"
      ]
     },
     "metadata": {},
     "output_type": "display_data"
    }
   ],
   "source": [
    "import pandas as pd\n",
    "import numpy as np\n",
    "import matplotlib.pyplot as plt\n",
    "import scipy.stats as st\n",
    "\n",
    "# load data\n",
    "xx = pd.read_csv(\"bank2.dat\", sep = \"\\s+\", header=None)\n",
    "\n",
    "xx = xx.iloc[:,4:]\n",
    "\n",
    "x_min=8.5\n",
    "x_max=13\n",
    "y_min=137.5\n",
    "y_max=143\n",
    "\n",
    "x_grid = np.mgrid[x_min:x_max:100j, y_min:y_max:100j][0]\n",
    "y_grid = np.mgrid[x_min:x_max:100j, y_min:y_max:100j][1]\n",
    "\n",
    "positions = np.array([x_grid.ravel(), y_grid.ravel()])\n",
    "kernel = st.gaussian_kde(np.array([xx.iloc[:,0], xx.iloc[:,1]]), bw_method=1.06 * np.std(xx.iloc[:, 1]) * 200**(-1/5))\n",
    "f = np.reshape(kernel(positions).T, x_grid.shape)\n",
    "\n",
    "fig, ax = plt.subplots(figsize=(10,10))\n",
    "ax.contourf(x_grid, y_grid, f, cmap=\"jet\")\n",
    "ax.imshow(np.rot90(f), cmap='jet', extent=[x_min, x_max, y_min, y_max])\n",
    "g = ax.contour(x_grid, y_grid, f, colors='k')\n",
    "ax.clabel(g, colors=\"black\")\n",
    "plt.title('Swiss bank notes')\n",
    "plt.show()"
   ]
  },
  {
   "cell_type": "code",
   "execution_count": 2,
   "metadata": {},
   "outputs": [
    {
     "data": {
      "text/plain": [
       "(100, 100)"
      ]
     },
     "execution_count": 2,
     "metadata": {},
     "output_type": "execute_result"
    }
   ],
   "source": [
    "x_grid.shape"
   ]
  },
  {
   "cell_type": "code",
   "execution_count": null,
   "metadata": {},
   "outputs": [],
   "source": []
  }
 ],
 "metadata": {
  "anaconda-cloud": {},
  "kernelspec": {
   "display_name": "Python [conda root]",
   "language": "python",
   "name": "conda-root-py"
  },
  "language_info": {
   "codemirror_mode": {
    "name": "ipython",
    "version": 3
   },
   "file_extension": ".py",
   "mimetype": "text/x-python",
   "name": "python",
   "nbconvert_exporter": "python",
   "pygments_lexer": "ipython3",
   "version": "3.5.5"
  }
 },
 "nbformat": 4,
 "nbformat_minor": 2
}
