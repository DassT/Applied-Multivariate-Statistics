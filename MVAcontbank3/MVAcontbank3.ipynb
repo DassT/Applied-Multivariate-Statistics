{
 "cells": [
  {
   "cell_type": "code",
   "execution_count": 6,
   "metadata": {},
   "outputs": [],
   "source": [
    "import pandas as pd\n",
    "import numpy as np\n",
    "import scipy.stats as st\n",
    "from mayavi import mlab\n",
    "\n",
    "xx = pd.read_csv(\"bank2.dat\", sep = \"\\s+\", header=None)\n",
    "\n",
    "d = st.gaussian_kde(np.array(xx.iloc[:, 3:]).T)\n",
    "\n",
    "for i, j in zip([\"x\", \"y\", \"z\"], range(3, 6)):\n",
    "    globals()[i+\"_min\"] = min(np.array(xx.iloc[:, j]))-1\n",
    "    globals()[i+\"_max\"] = max(np.array(xx.iloc[:, j]))+1\n",
    "\n",
    "xi, yi, zi = np.mgrid[x_min:x_max:30j, y_min:y_max:30j, z_min:z_max:30j]\n",
    "\n",
    "coords = np.vstack([item.ravel() for item in [xi, yi, zi]]) \n",
    "density = d(coords).reshape(xi.shape)"
   ]
  },
  {
   "cell_type": "code",
   "execution_count": 7,
   "metadata": {},
   "outputs": [],
   "source": [
    "figure = mlab.figure('DensityPlot', bgcolor = (1, 1, 1))\n",
    "\n",
    "mlab.contour3d(xi, yi, zi, density, opacity=0.5)\n",
    "mlab.axes(extent = [x_min, x_max, y_min, y_max, z_min, z_max], \n",
    "          x_axis_visibility = False, y_axis_visibility= False, z_axis_visibility = False)\n",
    "mlab.show()"
   ]
  }
 ],
 "metadata": {
  "anaconda-cloud": {},
  "kernelspec": {
   "display_name": "Python [conda root]",
   "language": "python",
   "name": "conda-root-py"
  },
  "language_info": {
   "codemirror_mode": {
    "name": "ipython",
    "version": 3
   },
   "file_extension": ".py",
   "mimetype": "text/x-python",
   "name": "python",
   "nbconvert_exporter": "python",
   "pygments_lexer": "ipython3",
   "version": "3.5.5"
  }
 },
 "nbformat": 4,
 "nbformat_minor": 2
}
